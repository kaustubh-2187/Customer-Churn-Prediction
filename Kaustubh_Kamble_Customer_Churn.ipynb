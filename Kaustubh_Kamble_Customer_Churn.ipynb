{
 "cells": [
  {
   "cell_type": "code",
   "execution_count": 1,
   "id": "e9e1dccf",
   "metadata": {},
   "outputs": [],
   "source": [
    "import pandas as pd\n",
    "import numpy as np\n",
    "import matplotlib.pyplot as plt\n",
    "%matplotlib inline"
   ]
  },
  {
   "cell_type": "markdown",
   "id": "0d31aaa5",
   "metadata": {},
   "source": [
    "#### Reading the CSV file and doing basic analysis"
   ]
  },
  {
   "cell_type": "code",
   "execution_count": 69,
   "id": "e5764ffb",
   "metadata": {},
   "outputs": [],
   "source": [
    "df = pd.read_csv(\"customer_churn.csv\")"
   ]
  },
  {
   "cell_type": "code",
   "execution_count": 70,
   "id": "75a4f431",
   "metadata": {
    "scrolled": true
   },
   "outputs": [
    {
     "data": {
      "text/html": [
       "<div>\n",
       "<style scoped>\n",
       "    .dataframe tbody tr th:only-of-type {\n",
       "        vertical-align: middle;\n",
       "    }\n",
       "\n",
       "    .dataframe tbody tr th {\n",
       "        vertical-align: top;\n",
       "    }\n",
       "\n",
       "    .dataframe thead th {\n",
       "        text-align: right;\n",
       "    }\n",
       "</style>\n",
       "<table border=\"1\" class=\"dataframe\">\n",
       "  <thead>\n",
       "    <tr style=\"text-align: right;\">\n",
       "      <th></th>\n",
       "      <th>CustomerID</th>\n",
       "      <th>Name</th>\n",
       "      <th>Age</th>\n",
       "      <th>Gender</th>\n",
       "      <th>Location</th>\n",
       "      <th>Subscription_Length_Months</th>\n",
       "      <th>Monthly_Bill</th>\n",
       "      <th>Total_Usage_GB</th>\n",
       "      <th>Churn</th>\n",
       "    </tr>\n",
       "  </thead>\n",
       "  <tbody>\n",
       "    <tr>\n",
       "      <th>0</th>\n",
       "      <td>1</td>\n",
       "      <td>Customer_1</td>\n",
       "      <td>63</td>\n",
       "      <td>Male</td>\n",
       "      <td>Los Angeles</td>\n",
       "      <td>17</td>\n",
       "      <td>73.36</td>\n",
       "      <td>236</td>\n",
       "      <td>0</td>\n",
       "    </tr>\n",
       "    <tr>\n",
       "      <th>1</th>\n",
       "      <td>2</td>\n",
       "      <td>Customer_2</td>\n",
       "      <td>62</td>\n",
       "      <td>Female</td>\n",
       "      <td>New York</td>\n",
       "      <td>1</td>\n",
       "      <td>48.76</td>\n",
       "      <td>172</td>\n",
       "      <td>0</td>\n",
       "    </tr>\n",
       "    <tr>\n",
       "      <th>2</th>\n",
       "      <td>3</td>\n",
       "      <td>Customer_3</td>\n",
       "      <td>24</td>\n",
       "      <td>Female</td>\n",
       "      <td>Los Angeles</td>\n",
       "      <td>5</td>\n",
       "      <td>85.47</td>\n",
       "      <td>460</td>\n",
       "      <td>0</td>\n",
       "    </tr>\n",
       "    <tr>\n",
       "      <th>3</th>\n",
       "      <td>4</td>\n",
       "      <td>Customer_4</td>\n",
       "      <td>36</td>\n",
       "      <td>Female</td>\n",
       "      <td>Miami</td>\n",
       "      <td>3</td>\n",
       "      <td>97.94</td>\n",
       "      <td>297</td>\n",
       "      <td>1</td>\n",
       "    </tr>\n",
       "    <tr>\n",
       "      <th>4</th>\n",
       "      <td>5</td>\n",
       "      <td>Customer_5</td>\n",
       "      <td>46</td>\n",
       "      <td>Female</td>\n",
       "      <td>Miami</td>\n",
       "      <td>19</td>\n",
       "      <td>58.14</td>\n",
       "      <td>266</td>\n",
       "      <td>0</td>\n",
       "    </tr>\n",
       "  </tbody>\n",
       "</table>\n",
       "</div>"
      ],
      "text/plain": [
       "   CustomerID        Name  Age  Gender     Location  \\\n",
       "0           1  Customer_1   63    Male  Los Angeles   \n",
       "1           2  Customer_2   62  Female     New York   \n",
       "2           3  Customer_3   24  Female  Los Angeles   \n",
       "3           4  Customer_4   36  Female        Miami   \n",
       "4           5  Customer_5   46  Female        Miami   \n",
       "\n",
       "   Subscription_Length_Months  Monthly_Bill  Total_Usage_GB  Churn  \n",
       "0                          17         73.36             236      0  \n",
       "1                           1         48.76             172      0  \n",
       "2                           5         85.47             460      0  \n",
       "3                           3         97.94             297      1  \n",
       "4                          19         58.14             266      0  "
      ]
     },
     "execution_count": 70,
     "metadata": {},
     "output_type": "execute_result"
    }
   ],
   "source": [
    "df.head()"
   ]
  },
  {
   "cell_type": "code",
   "execution_count": 71,
   "id": "b9c658ed",
   "metadata": {},
   "outputs": [
    {
     "data": {
      "text/plain": [
       "Houston        20157\n",
       "Los Angeles    20041\n",
       "Miami          20031\n",
       "Chicago        19958\n",
       "New York       19813\n",
       "Name: Location, dtype: int64"
      ]
     },
     "execution_count": 71,
     "metadata": {},
     "output_type": "execute_result"
    }
   ],
   "source": [
    "df.Location.value_counts()"
   ]
  },
  {
   "cell_type": "code",
   "execution_count": 4,
   "id": "e736c491",
   "metadata": {},
   "outputs": [
    {
     "name": "stdout",
     "output_type": "stream",
     "text": [
      "<class 'pandas.core.frame.DataFrame'>\n",
      "RangeIndex: 100000 entries, 0 to 99999\n",
      "Data columns (total 9 columns):\n",
      " #   Column                      Non-Null Count   Dtype  \n",
      "---  ------                      --------------   -----  \n",
      " 0   CustomerID                  100000 non-null  int64  \n",
      " 1   Name                        100000 non-null  object \n",
      " 2   Age                         100000 non-null  int64  \n",
      " 3   Gender                      100000 non-null  object \n",
      " 4   Location                    100000 non-null  object \n",
      " 5   Subscription_Length_Months  100000 non-null  int64  \n",
      " 6   Monthly_Bill                100000 non-null  float64\n",
      " 7   Total_Usage_GB              100000 non-null  int64  \n",
      " 8   Churn                       100000 non-null  int64  \n",
      "dtypes: float64(1), int64(5), object(3)\n",
      "memory usage: 6.9+ MB\n"
     ]
    }
   ],
   "source": [
    "df.info()"
   ]
  },
  {
   "cell_type": "code",
   "execution_count": 5,
   "id": "07051386",
   "metadata": {},
   "outputs": [
    {
     "data": {
      "text/plain": [
       "CustomerID                    0\n",
       "Name                          0\n",
       "Age                           0\n",
       "Gender                        0\n",
       "Location                      0\n",
       "Subscription_Length_Months    0\n",
       "Monthly_Bill                  0\n",
       "Total_Usage_GB                0\n",
       "Churn                         0\n",
       "dtype: int64"
      ]
     },
     "execution_count": 5,
     "metadata": {},
     "output_type": "execute_result"
    }
   ],
   "source": [
    "# Checking for missing values in the dataset\n",
    "df.isna().sum()"
   ]
  },
  {
   "cell_type": "code",
   "execution_count": 6,
   "id": "44148c8f",
   "metadata": {
    "scrolled": false
   },
   "outputs": [
    {
     "data": {
      "text/plain": [
       "CustomerID                      int64\n",
       "Name                           object\n",
       "Age                             int64\n",
       "Gender                         object\n",
       "Location                       object\n",
       "Subscription_Length_Months      int64\n",
       "Monthly_Bill                  float64\n",
       "Total_Usage_GB                  int64\n",
       "Churn                           int64\n",
       "dtype: object"
      ]
     },
     "execution_count": 6,
     "metadata": {},
     "output_type": "execute_result"
    }
   ],
   "source": [
    "# Checking for the datatypes of the features\n",
    "df.dtypes"
   ]
  },
  {
   "cell_type": "markdown",
   "id": "9e1da59c",
   "metadata": {},
   "source": [
    "### Finding patterns in the data"
   ]
  },
  {
   "cell_type": "code",
   "execution_count": 7,
   "id": "1fa3127d",
   "metadata": {
    "scrolled": true
   },
   "outputs": [
    {
     "data": {
      "text/html": [
       "<div>\n",
       "<style scoped>\n",
       "    .dataframe tbody tr th:only-of-type {\n",
       "        vertical-align: middle;\n",
       "    }\n",
       "\n",
       "    .dataframe tbody tr th {\n",
       "        vertical-align: top;\n",
       "    }\n",
       "\n",
       "    .dataframe thead th {\n",
       "        text-align: right;\n",
       "    }\n",
       "</style>\n",
       "<table border=\"1\" class=\"dataframe\">\n",
       "  <thead>\n",
       "    <tr style=\"text-align: right;\">\n",
       "      <th>Gender</th>\n",
       "      <th>Female</th>\n",
       "      <th>Male</th>\n",
       "    </tr>\n",
       "    <tr>\n",
       "      <th>Churn</th>\n",
       "      <th></th>\n",
       "      <th></th>\n",
       "    </tr>\n",
       "  </thead>\n",
       "  <tbody>\n",
       "    <tr>\n",
       "      <th>0</th>\n",
       "      <td>25272</td>\n",
       "      <td>24949</td>\n",
       "    </tr>\n",
       "    <tr>\n",
       "      <th>1</th>\n",
       "      <td>24944</td>\n",
       "      <td>24835</td>\n",
       "    </tr>\n",
       "  </tbody>\n",
       "</table>\n",
       "</div>"
      ],
      "text/plain": [
       "Gender  Female   Male\n",
       "Churn                \n",
       "0        25272  24949\n",
       "1        24944  24835"
      ]
     },
     "execution_count": 7,
     "metadata": {},
     "output_type": "execute_result"
    }
   ],
   "source": [
    "# Compare target column with Gender column\n",
    "pd.crosstab(df.Churn, df.Gender)"
   ]
  },
  {
   "cell_type": "markdown",
   "id": "de7d570f",
   "metadata": {},
   "source": [
    "* There is almost an equal distribution of Male and Female Customers being churned and not being churned\n",
    "* Number of Female Customers is very slightly more than the number of Male Customers"
   ]
  },
  {
   "cell_type": "code",
   "execution_count": 8,
   "id": "ddc2a2f7",
   "metadata": {},
   "outputs": [
    {
     "data": {
      "image/png": "[encoded data removed]",
      "text/plain": [
       "<Figure size 1000x600 with 1 Axes>"
      ]
     },
     "metadata": {},
     "output_type": "display_data"
    }
   ],
   "source": [
    "# Plot of crosstab\n",
    "pd.crosstab(df.Churn, df.Gender).plot(kind=\"bar\", figsize=(10,6),color=[\"salmon\", \"lightblue\"])\n",
    "plt.title(\"Churn Frequency for Sex\")\n",
    "plt.xlabel(\"0 = Not Churned, 1 = Churned\")\n",
    "plt.ylabel(\"Number of Customers\")\n",
    "plt.legend([\"Female\",\"Male\"])\n",
    "plt.xticks(rotation=0);"
   ]
  },
  {
   "cell_type": "code",
   "execution_count": 9,
   "id": "333715ca",
   "metadata": {
    "scrolled": true
   },
   "outputs": [
    {
     "data": {
      "image/png": "[encoded data removed]",
      "text/plain": [
       "<Figure size 640x480 with 1 Axes>"
      ]
     },
     "metadata": {},
     "output_type": "display_data"
    }
   ],
   "source": [
    "df[\"Age\"].hist(bins=10, color='lightgreen', edgecolor='black')\n",
    "plt.title('Age Histogram')\n",
    "plt.xlabel('Age')\n",
    "plt.ylabel('Frequency')\n",
    "plt.show()"
   ]
  },
  {
   "cell_type": "code",
   "execution_count": 10,
   "id": "daa2aaf3",
   "metadata": {
    "scrolled": true
   },
   "outputs": [
    {
     "data": {
      "image/png": "[encoded data removed]",
      "text/plain": [
       "<Figure size 1000x600 with 1 Axes>"
      ]
     },
     "metadata": {},
     "output_type": "display_data"
    }
   ],
   "source": [
    "import seaborn as sns\n",
    "\n",
    "plt.figure(figsize=(10, 6))\n",
    "sns.countplot(data=df, x='Location', palette='deep')\n",
    "plt.title('Number of Customer for Each Location')\n",
    "plt.xlabel('Location')\n",
    "plt.ylabel('Number of Customers');"
   ]
  },
  {
   "cell_type": "code",
   "execution_count": 11,
   "id": "580a847e",
   "metadata": {},
   "outputs": [
    {
     "data": {
      "text/html": [
       "<div>\n",
       "<style scoped>\n",
       "    .dataframe tbody tr th:only-of-type {\n",
       "        vertical-align: middle;\n",
       "    }\n",
       "\n",
       "    .dataframe tbody tr th {\n",
       "        vertical-align: top;\n",
       "    }\n",
       "\n",
       "    .dataframe thead th {\n",
       "        text-align: right;\n",
       "    }\n",
       "</style>\n",
       "<table border=\"1\" class=\"dataframe\">\n",
       "  <thead>\n",
       "    <tr style=\"text-align: right;\">\n",
       "      <th>Location</th>\n",
       "      <th>Chicago</th>\n",
       "      <th>Houston</th>\n",
       "      <th>Los Angeles</th>\n",
       "      <th>Miami</th>\n",
       "      <th>New York</th>\n",
       "    </tr>\n",
       "    <tr>\n",
       "      <th>Churn</th>\n",
       "      <th></th>\n",
       "      <th></th>\n",
       "      <th></th>\n",
       "      <th></th>\n",
       "      <th></th>\n",
       "    </tr>\n",
       "  </thead>\n",
       "  <tbody>\n",
       "    <tr>\n",
       "      <th>0</th>\n",
       "      <td>10013</td>\n",
       "      <td>10258</td>\n",
       "      <td>10161</td>\n",
       "      <td>9955</td>\n",
       "      <td>9834</td>\n",
       "    </tr>\n",
       "    <tr>\n",
       "      <th>1</th>\n",
       "      <td>9945</td>\n",
       "      <td>9899</td>\n",
       "      <td>9880</td>\n",
       "      <td>10076</td>\n",
       "      <td>9979</td>\n",
       "    </tr>\n",
       "  </tbody>\n",
       "</table>\n",
       "</div>"
      ],
      "text/plain": [
       "Location  Chicago  Houston  Los Angeles  Miami  New York\n",
       "Churn                                                   \n",
       "0           10013    10258        10161   9955      9834\n",
       "1            9945     9899         9880  10076      9979"
      ]
     },
     "execution_count": 11,
     "metadata": {},
     "output_type": "execute_result"
    }
   ],
   "source": [
    "# Compare Churn column with Location column\n",
    "pd.crosstab(df.Churn, df.Location)"
   ]
  },
  {
   "cell_type": "code",
   "execution_count": 12,
   "id": "36709db9",
   "metadata": {
    "scrolled": true
   },
   "outputs": [
    {
     "data": {
      "image/png": "[encoded data removed]",
      "text/plain": [
       "<Figure size 1000x600 with 1 Axes>"
      ]
     },
     "metadata": {},
     "output_type": "display_data"
    }
   ],
   "source": [
    "pd.crosstab(df.Churn, df.Location).plot(kind=\"bar\", figsize=(10,6))\n",
    "plt.title(\"Churn Frequency for Location\")\n",
    "plt.xlabel(\"0 = Not Churned, 1 = Churned\")\n",
    "plt.ylabel(\"Number of Customers\")\n",
    "plt.legend([\"Chicago\", \"Houston\", \"Los Angeles\", \"Miami\", \"New York\"])\n",
    "plt.xticks(rotation=0);"
   ]
  },
  {
   "cell_type": "markdown",
   "id": "57896b54",
   "metadata": {},
   "source": [
    "#### Checking for non-numerical features"
   ]
  },
  {
   "cell_type": "code",
   "execution_count": 13,
   "id": "90c49324",
   "metadata": {},
   "outputs": [
    {
     "name": "stdout",
     "output_type": "stream",
     "text": [
      "Name\n",
      "Gender\n",
      "Location\n"
     ]
    }
   ],
   "source": [
    "for label, content in df.items():\n",
    "    if not pd.api.types.is_numeric_dtype(content):\n",
    "        print(label)"
   ]
  },
  {
   "cell_type": "code",
   "execution_count": 14,
   "id": "a16bb871",
   "metadata": {},
   "outputs": [],
   "source": [
    "for label, content in df.items():\n",
    "    if not pd.api.types.is_numeric_dtype(content):\n",
    "        df[label] = pd.Categorical(content).codes+ 1"
   ]
  },
  {
   "cell_type": "code",
   "execution_count": 15,
   "id": "27a1c016",
   "metadata": {
    "scrolled": false
   },
   "outputs": [
    {
     "data": {
      "text/plain": [
       "CustomerID                      int64\n",
       "Name                            int32\n",
       "Age                             int64\n",
       "Gender                           int8\n",
       "Location                         int8\n",
       "Subscription_Length_Months      int64\n",
       "Monthly_Bill                  float64\n",
       "Total_Usage_GB                  int64\n",
       "Churn                           int64\n",
       "dtype: object"
      ]
     },
     "execution_count": 15,
     "metadata": {},
     "output_type": "execute_result"
    }
   ],
   "source": [
    "df.dtypes"
   ]
  },
  {
   "cell_type": "markdown",
   "id": "0846ea27",
   "metadata": {},
   "source": [
    "#### Renaming \"Churn\" to \"target\""
   ]
  },
  {
   "cell_type": "code",
   "execution_count": 16,
   "id": "3079cc44",
   "metadata": {},
   "outputs": [],
   "source": [
    "df.rename(columns = {'Churn':'target'}, inplace = True)"
   ]
  },
  {
   "cell_type": "code",
   "execution_count": 17,
   "id": "6483564d",
   "metadata": {},
   "outputs": [
    {
     "data": {
      "text/plain": [
       "0    50221\n",
       "1    49779\n",
       "Name: target, dtype: int64"
      ]
     },
     "execution_count": 17,
     "metadata": {},
     "output_type": "execute_result"
    }
   ],
   "source": [
    "# A balanced binary distribution\n",
    "df['target'].value_counts()"
   ]
  },
  {
   "cell_type": "markdown",
   "id": "52983b4a",
   "metadata": {},
   "source": [
    "#### Creating and Plotting a `Correlation Matrix` to better understand the dataset"
   ]
  },
  {
   "cell_type": "code",
   "execution_count": 18,
   "id": "fe3065e8",
   "metadata": {},
   "outputs": [
    {
     "data": {
      "text/html": [
       "<div>\n",
       "<style scoped>\n",
       "    .dataframe tbody tr th:only-of-type {\n",
       "        vertical-align: middle;\n",
       "    }\n",
       "\n",
       "    .dataframe tbody tr th {\n",
       "        vertical-align: top;\n",
       "    }\n",
       "\n",
       "    .dataframe thead th {\n",
       "        text-align: right;\n",
       "    }\n",
       "</style>\n",
       "<table border=\"1\" class=\"dataframe\">\n",
       "  <thead>\n",
       "    <tr style=\"text-align: right;\">\n",
       "      <th></th>\n",
       "      <th>CustomerID</th>\n",
       "      <th>Name</th>\n",
       "      <th>Age</th>\n",
       "      <th>Gender</th>\n",
       "      <th>Location</th>\n",
       "      <th>Subscription_Length_Months</th>\n",
       "      <th>Monthly_Bill</th>\n",
       "      <th>Total_Usage_GB</th>\n",
       "      <th>target</th>\n",
       "    </tr>\n",
       "  </thead>\n",
       "  <tbody>\n",
       "    <tr>\n",
       "      <th>CustomerID</th>\n",
       "      <td>1.000000</td>\n",
       "      <td>0.818259</td>\n",
       "      <td>-0.001085</td>\n",
       "      <td>-0.000131</td>\n",
       "      <td>0.000062</td>\n",
       "      <td>0.005444</td>\n",
       "      <td>0.001265</td>\n",
       "      <td>-0.004025</td>\n",
       "      <td>-0.004586</td>\n",
       "    </tr>\n",
       "    <tr>\n",
       "      <th>Name</th>\n",
       "      <td>0.818259</td>\n",
       "      <td>1.000000</td>\n",
       "      <td>-0.000948</td>\n",
       "      <td>0.003875</td>\n",
       "      <td>-0.004283</td>\n",
       "      <td>0.007357</td>\n",
       "      <td>0.000353</td>\n",
       "      <td>-0.002791</td>\n",
       "      <td>-0.001418</td>\n",
       "    </tr>\n",
       "    <tr>\n",
       "      <th>Age</th>\n",
       "      <td>-0.001085</td>\n",
       "      <td>-0.000948</td>\n",
       "      <td>1.000000</td>\n",
       "      <td>0.000832</td>\n",
       "      <td>-0.005889</td>\n",
       "      <td>0.003382</td>\n",
       "      <td>0.001110</td>\n",
       "      <td>0.001927</td>\n",
       "      <td>0.001559</td>\n",
       "    </tr>\n",
       "    <tr>\n",
       "      <th>Gender</th>\n",
       "      <td>-0.000131</td>\n",
       "      <td>0.003875</td>\n",
       "      <td>0.000832</td>\n",
       "      <td>1.000000</td>\n",
       "      <td>-0.003314</td>\n",
       "      <td>0.000320</td>\n",
       "      <td>0.002239</td>\n",
       "      <td>-0.001385</td>\n",
       "      <td>0.002121</td>\n",
       "    </tr>\n",
       "    <tr>\n",
       "      <th>Location</th>\n",
       "      <td>0.000062</td>\n",
       "      <td>-0.004283</td>\n",
       "      <td>-0.005889</td>\n",
       "      <td>-0.003314</td>\n",
       "      <td>1.000000</td>\n",
       "      <td>-0.001768</td>\n",
       "      <td>0.003716</td>\n",
       "      <td>0.002834</td>\n",
       "      <td>0.006405</td>\n",
       "    </tr>\n",
       "    <tr>\n",
       "      <th>Subscription_Length_Months</th>\n",
       "      <td>0.005444</td>\n",
       "      <td>0.007357</td>\n",
       "      <td>0.003382</td>\n",
       "      <td>0.000320</td>\n",
       "      <td>-0.001768</td>\n",
       "      <td>1.000000</td>\n",
       "      <td>-0.005294</td>\n",
       "      <td>-0.002203</td>\n",
       "      <td>0.002328</td>\n",
       "    </tr>\n",
       "    <tr>\n",
       "      <th>Monthly_Bill</th>\n",
       "      <td>0.001265</td>\n",
       "      <td>0.000353</td>\n",
       "      <td>0.001110</td>\n",
       "      <td>0.002239</td>\n",
       "      <td>0.003716</td>\n",
       "      <td>-0.005294</td>\n",
       "      <td>1.000000</td>\n",
       "      <td>0.003187</td>\n",
       "      <td>-0.000211</td>\n",
       "    </tr>\n",
       "    <tr>\n",
       "      <th>Total_Usage_GB</th>\n",
       "      <td>-0.004025</td>\n",
       "      <td>-0.002791</td>\n",
       "      <td>0.001927</td>\n",
       "      <td>-0.001385</td>\n",
       "      <td>0.002834</td>\n",
       "      <td>-0.002203</td>\n",
       "      <td>0.003187</td>\n",
       "      <td>1.000000</td>\n",
       "      <td>-0.002842</td>\n",
       "    </tr>\n",
       "    <tr>\n",
       "      <th>target</th>\n",
       "      <td>-0.004586</td>\n",
       "      <td>-0.001418</td>\n",
       "      <td>0.001559</td>\n",
       "      <td>0.002121</td>\n",
       "      <td>0.006405</td>\n",
       "      <td>0.002328</td>\n",
       "      <td>-0.000211</td>\n",
       "      <td>-0.002842</td>\n",
       "      <td>1.000000</td>\n",
       "    </tr>\n",
       "  </tbody>\n",
       "</table>\n",
       "</div>"
      ],
      "text/plain": [
       "                            CustomerID      Name       Age    Gender  \\\n",
       "CustomerID                    1.000000  0.818259 -0.001085 -0.000131   \n",
       "Name                          0.818259  1.000000 -0.000948  0.003875   \n",
       "Age                          -0.001085 -0.000948  1.000000  0.000832   \n",
       "Gender                       -0.000131  0.003875  0.000832  1.000000   \n",
       "Location                      0.000062 -0.004283 -0.005889 -0.003314   \n",
       "Subscription_Length_Months    0.005444  0.007357  0.003382  0.000320   \n",
       "Monthly_Bill                  0.001265  0.000353  0.001110  0.002239   \n",
       "Total_Usage_GB               -0.004025 -0.002791  0.001927 -0.001385   \n",
       "target                       -0.004586 -0.001418  0.001559  0.002121   \n",
       "\n",
       "                            Location  Subscription_Length_Months  \\\n",
       "CustomerID                  0.000062                    0.005444   \n",
       "Name                       -0.004283                    0.007357   \n",
       "Age                        -0.005889                    0.003382   \n",
       "Gender                     -0.003314                    0.000320   \n",
       "Location                    1.000000                   -0.001768   \n",
       "Subscription_Length_Months -0.001768                    1.000000   \n",
       "Monthly_Bill                0.003716                   -0.005294   \n",
       "Total_Usage_GB              0.002834                   -0.002203   \n",
       "target                      0.006405                    0.002328   \n",
       "\n",
       "                            Monthly_Bill  Total_Usage_GB    target  \n",
       "CustomerID                      0.001265       -0.004025 -0.004586  \n",
       "Name                            0.000353       -0.002791 -0.001418  \n",
       "Age                             0.001110        0.001927  0.001559  \n",
       "Gender                          0.002239       -0.001385  0.002121  \n",
       "Location                        0.003716        0.002834  0.006405  \n",
       "Subscription_Length_Months     -0.005294       -0.002203  0.002328  \n",
       "Monthly_Bill                    1.000000        0.003187 -0.000211  \n",
       "Total_Usage_GB                  0.003187        1.000000 -0.002842  \n",
       "target                         -0.000211       -0.002842  1.000000  "
      ]
     },
     "execution_count": 18,
     "metadata": {},
     "output_type": "execute_result"
    }
   ],
   "source": [
    "corr_matrix = df.corr()\n",
    "corr_matrix"
   ]
  },
  {
   "cell_type": "code",
   "execution_count": 19,
   "id": "b1f14806",
   "metadata": {},
   "outputs": [
    {
     "data": {
      "image/png": "[encoded data removed]",
      "text/plain": [
       "<Figure size 1500x1000 with 2 Axes>"
      ]
     },
     "metadata": {},
     "output_type": "display_data"
    }
   ],
   "source": [
    "fig, ax = plt.subplots(figsize=(15,10))\n",
    "ax = sns.heatmap(corr_matrix, annot=True, linewidth=0.5, fmt=\".2f\", cmap=\"YlGnBu\")"
   ]
  },
  {
   "cell_type": "code",
   "execution_count": 20,
   "id": "2af324a5",
   "metadata": {
    "scrolled": true
   },
   "outputs": [
    {
     "data": {
      "text/plain": [
       "<bound method Series.unique of 0             1\n",
       "1             2\n",
       "2             3\n",
       "3             4\n",
       "4             5\n",
       "          ...  \n",
       "99995     99996\n",
       "99996     99997\n",
       "99997     99998\n",
       "99998     99999\n",
       "99999    100000\n",
       "Name: CustomerID, Length: 100000, dtype: int64>"
      ]
     },
     "execution_count": 20,
     "metadata": {},
     "output_type": "execute_result"
    }
   ],
   "source": [
    "# No repition in CustomerID\n",
    "df['CustomerID'].unique"
   ]
  },
  {
   "cell_type": "code",
   "execution_count": 21,
   "id": "6f8a7fe3",
   "metadata": {
    "scrolled": true
   },
   "outputs": [
    {
     "data": {
      "text/plain": [
       "<bound method Series.unique of 0             1\n",
       "1         11113\n",
       "2         22224\n",
       "3         33335\n",
       "4         44446\n",
       "          ...  \n",
       "99995     99997\n",
       "99996     99998\n",
       "99997     99999\n",
       "99998    100000\n",
       "99999         6\n",
       "Name: Name, Length: 100000, dtype: int32>"
      ]
     },
     "execution_count": 21,
     "metadata": {},
     "output_type": "execute_result"
    }
   ],
   "source": [
    "# No repition in Name\n",
    "df['Name'].unique"
   ]
  },
  {
   "cell_type": "markdown",
   "id": "31dc7432",
   "metadata": {},
   "source": [
    "* All the values of **Name** and **CustomerId** are unique in the dataset\n",
    "* As a result, we could drop both the features to get optimal computation time"
   ]
  },
  {
   "cell_type": "code",
   "execution_count": 22,
   "id": "f7434f72",
   "metadata": {
    "scrolled": true
   },
   "outputs": [
    {
     "data": {
      "text/plain": [
       "CustomerID                      int64\n",
       "Name                            int32\n",
       "Age                             int64\n",
       "Gender                           int8\n",
       "Location                         int8\n",
       "Subscription_Length_Months      int64\n",
       "Monthly_Bill                  float64\n",
       "Total_Usage_GB                  int64\n",
       "target                          int64\n",
       "dtype: object"
      ]
     },
     "execution_count": 22,
     "metadata": {},
     "output_type": "execute_result"
    }
   ],
   "source": [
    "df.dtypes"
   ]
  },
  {
   "cell_type": "code",
   "execution_count": 23,
   "id": "7c674475",
   "metadata": {},
   "outputs": [
    {
     "data": {
      "text/html": [
       "<div>\n",
       "<style scoped>\n",
       "    .dataframe tbody tr th:only-of-type {\n",
       "        vertical-align: middle;\n",
       "    }\n",
       "\n",
       "    .dataframe tbody tr th {\n",
       "        vertical-align: top;\n",
       "    }\n",
       "\n",
       "    .dataframe thead th {\n",
       "        text-align: right;\n",
       "    }\n",
       "</style>\n",
       "<table border=\"1\" class=\"dataframe\">\n",
       "  <thead>\n",
       "    <tr style=\"text-align: right;\">\n",
       "      <th></th>\n",
       "      <th>Age</th>\n",
       "      <th>Gender</th>\n",
       "      <th>Location</th>\n",
       "      <th>Subscription_Length_Months</th>\n",
       "      <th>Monthly_Bill</th>\n",
       "      <th>Total_Usage_GB</th>\n",
       "      <th>target</th>\n",
       "    </tr>\n",
       "  </thead>\n",
       "  <tbody>\n",
       "    <tr>\n",
       "      <th>0</th>\n",
       "      <td>63</td>\n",
       "      <td>2</td>\n",
       "      <td>3</td>\n",
       "      <td>17</td>\n",
       "      <td>73.36</td>\n",
       "      <td>236</td>\n",
       "      <td>0</td>\n",
       "    </tr>\n",
       "    <tr>\n",
       "      <th>1</th>\n",
       "      <td>62</td>\n",
       "      <td>1</td>\n",
       "      <td>5</td>\n",
       "      <td>1</td>\n",
       "      <td>48.76</td>\n",
       "      <td>172</td>\n",
       "      <td>0</td>\n",
       "    </tr>\n",
       "    <tr>\n",
       "      <th>2</th>\n",
       "      <td>24</td>\n",
       "      <td>1</td>\n",
       "      <td>3</td>\n",
       "      <td>5</td>\n",
       "      <td>85.47</td>\n",
       "      <td>460</td>\n",
       "      <td>0</td>\n",
       "    </tr>\n",
       "    <tr>\n",
       "      <th>3</th>\n",
       "      <td>36</td>\n",
       "      <td>1</td>\n",
       "      <td>4</td>\n",
       "      <td>3</td>\n",
       "      <td>97.94</td>\n",
       "      <td>297</td>\n",
       "      <td>1</td>\n",
       "    </tr>\n",
       "    <tr>\n",
       "      <th>4</th>\n",
       "      <td>46</td>\n",
       "      <td>1</td>\n",
       "      <td>4</td>\n",
       "      <td>19</td>\n",
       "      <td>58.14</td>\n",
       "      <td>266</td>\n",
       "      <td>0</td>\n",
       "    </tr>\n",
       "  </tbody>\n",
       "</table>\n",
       "</div>"
      ],
      "text/plain": [
       "   Age  Gender  Location  Subscription_Length_Months  Monthly_Bill  \\\n",
       "0   63       2         3                          17         73.36   \n",
       "1   62       1         5                           1         48.76   \n",
       "2   24       1         3                           5         85.47   \n",
       "3   36       1         4                           3         97.94   \n",
       "4   46       1         4                          19         58.14   \n",
       "\n",
       "   Total_Usage_GB  target  \n",
       "0             236       0  \n",
       "1             172       0  \n",
       "2             460       0  \n",
       "3             297       1  \n",
       "4             266       0  "
      ]
     },
     "execution_count": 23,
     "metadata": {},
     "output_type": "execute_result"
    }
   ],
   "source": [
    "df = df.drop([\"Name\",\"CustomerID\"], axis=1)\n",
    "df.head()"
   ]
  },
  {
   "cell_type": "markdown",
   "id": "23882fb1",
   "metadata": {},
   "source": [
    "## Modelling"
   ]
  },
  {
   "cell_type": "markdown",
   "id": "1ee3a5df",
   "metadata": {},
   "source": [
    "#### Creating X & y and splitting the data into training and test set"
   ]
  },
  {
   "cell_type": "code",
   "execution_count": 24,
   "id": "34756c04",
   "metadata": {},
   "outputs": [],
   "source": [
    "X = df.drop('target', axis=1)\n",
    "y = df['target']"
   ]
  },
  {
   "cell_type": "code",
   "execution_count": 25,
   "id": "c9509ed8",
   "metadata": {},
   "outputs": [],
   "source": [
    "from sklearn.model_selection import train_test_split\n",
    "\n",
    "X_train, X_test, y_train, y_test = train_test_split(X, y, test_size=0.2)"
   ]
  },
  {
   "cell_type": "code",
   "execution_count": 26,
   "id": "9ba46b6c",
   "metadata": {},
   "outputs": [
    {
     "data": {
      "text/plain": [
       "((80000, 6), (20000, 6))"
      ]
     },
     "execution_count": 26,
     "metadata": {},
     "output_type": "execute_result"
    }
   ],
   "source": [
    "X_train.shape, X_test.shape"
   ]
  },
  {
   "cell_type": "code",
   "execution_count": 27,
   "id": "5c7d9cf3",
   "metadata": {
    "scrolled": false
   },
   "outputs": [
    {
     "data": {
      "text/plain": [
       "((80000,), (20000,))"
      ]
     },
     "execution_count": 27,
     "metadata": {},
     "output_type": "execute_result"
    }
   ],
   "source": [
    "y_train.shape, y_test.shape"
   ]
  },
  {
   "cell_type": "markdown",
   "id": "174926f4",
   "metadata": {},
   "source": [
    "#### Fitting 4 different Classification Estimators on the data and storing the scores in `model_scores`"
   ]
  },
  {
   "cell_type": "code",
   "execution_count": 28,
   "id": "a3808b83",
   "metadata": {},
   "outputs": [],
   "source": [
    "model_scores = {}"
   ]
  },
  {
   "cell_type": "markdown",
   "id": "68c721d8",
   "metadata": {},
   "source": [
    "**Logistic Regression**"
   ]
  },
  {
   "cell_type": "code",
   "execution_count": 29,
   "id": "13d93903",
   "metadata": {},
   "outputs": [
    {
     "name": "stdout",
     "output_type": "stream",
     "text": [
      "CPU times: total: 375 ms\n",
      "Wall time: 249 ms\n"
     ]
    }
   ],
   "source": [
    "%%time\n",
    "from sklearn.linear_model import LogisticRegression\n",
    "\n",
    "lr = LogisticRegression()\n",
    "lr.fit(X_train,y_train)\n",
    "model_scores[\"LogisticRegression\"] = lr.score(X_test, y_test)"
   ]
  },
  {
   "cell_type": "markdown",
   "id": "4e3017b6",
   "metadata": {},
   "source": [
    "**SGC Classifier**"
   ]
  },
  {
   "cell_type": "code",
   "execution_count": 30,
   "id": "4069d045",
   "metadata": {},
   "outputs": [
    {
     "name": "stdout",
     "output_type": "stream",
     "text": [
      "CPU times: total: 234 ms\n",
      "Wall time: 248 ms\n"
     ]
    }
   ],
   "source": [
    "%%time\n",
    "from sklearn.preprocessing import StandardScaler\n",
    "from sklearn.linear_model import SGDClassifier\n",
    "\n",
    "scaler = StandardScaler()\n",
    "scaler.fit(X_train)  # Don't cheat - fit only on training data\n",
    "X_train_scaler = scaler.transform(X_train)\n",
    "X_test_scaler = scaler.transform(X_test)  # apply same transformation to test data\n",
    "\n",
    "\n",
    "sgd = SGDClassifier()\n",
    "sgd.fit(X_train_scaler, y_train)\n",
    "model_scores[\"SGDClassifier\"] = sgd.score(X_test_scaler, y_test)"
   ]
  },
  {
   "cell_type": "markdown",
   "id": "cec70e60",
   "metadata": {},
   "source": [
    "**KNeighborsClassifier**"
   ]
  },
  {
   "cell_type": "code",
   "execution_count": 31,
   "id": "b9541614",
   "metadata": {},
   "outputs": [
    {
     "name": "stdout",
     "output_type": "stream",
     "text": [
      "CPU times: total: 781 ms\n",
      "Wall time: 977 ms\n"
     ]
    }
   ],
   "source": [
    "%%time\n",
    "from sklearn.neighbors import KNeighborsClassifier\n",
    "\n",
    "knn = KNeighborsClassifier()\n",
    "knn.fit(X_train, y_train)\n",
    "model_scores[\"KNeighborsClassifier\"] = knn.score(X_test, y_test)"
   ]
  },
  {
   "cell_type": "markdown",
   "id": "1d83c52f",
   "metadata": {},
   "source": [
    "**RandomForestClassifier**"
   ]
  },
  {
   "cell_type": "code",
   "execution_count": 32,
   "id": "b9a98161",
   "metadata": {},
   "outputs": [
    {
     "name": "stdout",
     "output_type": "stream",
     "text": [
      "CPU times: total: 43.1 s\n",
      "Wall time: 7.08 s\n"
     ]
    }
   ],
   "source": [
    "%%time\n",
    "from sklearn.ensemble import RandomForestClassifier\n",
    "\n",
    "clf = RandomForestClassifier(n_jobs=-1)\n",
    "clf.fit(X_train, y_train)\n",
    "model_scores['RandomForestClassifier'] = clf.score(X_test, y_test)"
   ]
  },
  {
   "cell_type": "code",
   "execution_count": 33,
   "id": "15986883",
   "metadata": {
    "scrolled": true
   },
   "outputs": [
    {
     "data": {
      "text/plain": [
       "{'LogisticRegression': 0.4956,\n",
       " 'SGDClassifier': 0.4967,\n",
       " 'KNeighborsClassifier': 0.502,\n",
       " 'RandomForestClassifier': 0.4975}"
      ]
     },
     "execution_count": 33,
     "metadata": {},
     "output_type": "execute_result"
    }
   ],
   "source": [
    "# These are the accuracy scores for the Models\n",
    "model_scores"
   ]
  },
  {
   "cell_type": "markdown",
   "id": "a1451592",
   "metadata": {},
   "source": [
    "**Plotting the scores using bar graph** "
   ]
  },
  {
   "cell_type": "code",
   "execution_count": 34,
   "id": "9d32d3f6",
   "metadata": {},
   "outputs": [
    {
     "data": {
      "image/png": "[encoded data removed]",
      "text/plain": [
       "<Figure size 800x600 with 1 Axes>"
      ]
     },
     "metadata": {},
     "output_type": "display_data"
    }
   ],
   "source": [
    "import matplotlib.pyplot as plt\n",
    "%matplotlib inline\n",
    "\n",
    "# model_scores_df.plot.bar()\n",
    "model_scores_df = pd.DataFrame(model_scores, index=['accuracy']).T\n",
    "model_scores_df = model_scores_df.sort_values(by=\"accuracy\", ascending=False)\n",
    "model_scores_df\n",
    "plt.figure(figsize=(8, 6))\n",
    "plt.bar(model_scores_df.index, model_scores_df['accuracy'])\n",
    "plt.title(\"Accuracy for Baseline Models\")\n",
    "plt.xticks(rotation=0);"
   ]
  },
  {
   "cell_type": "markdown",
   "id": "3416741f",
   "metadata": {},
   "source": [
    "### Computing cross validated metrics using `cross_val_score`"
   ]
  },
  {
   "cell_type": "code",
   "execution_count": 35,
   "id": "a62e92ab",
   "metadata": {},
   "outputs": [],
   "source": [
    "from sklearn.model_selection import cross_val_score\n",
    "\n",
    "def cross_validated_metrics(model, X, y):\n",
    "    cvm = []\n",
    "    cvm.append(np.mean(cross_val_score(model, X, y, cv=5, scoring=\"accuracy\")))\n",
    "    cvm.append(np.mean(cross_val_score(model, X, y, cv=5, scoring=\"precision\")))\n",
    "    cvm.append(np.mean(cross_val_score(model, X, y, cv=5, scoring=\"recall\")))\n",
    "    cvm.append(np.mean(cross_val_score(model, X, y, cv=5, scoring=\"f1\")))\n",
    "    return cvm"
   ]
  },
  {
   "cell_type": "code",
   "execution_count": 36,
   "id": "df6104e6",
   "metadata": {},
   "outputs": [],
   "source": [
    "# For Storing Cross-Validated Metrics\n",
    "cv_metrics = {}"
   ]
  },
  {
   "cell_type": "code",
   "execution_count": 37,
   "id": "d41dab37",
   "metadata": {},
   "outputs": [
    {
     "name": "stderr",
     "output_type": "stream",
     "text": [
      "C:\\Users\\LENOVO\\AppData\\Roaming\\Python\\Python311\\site-packages\\sklearn\\metrics\\_classification.py:1469: UndefinedMetricWarning: Precision is ill-defined and being set to 0.0 due to no predicted samples. Use `zero_division` parameter to control this behavior.\n",
      "  _warn_prf(average, modifier, msg_start, len(result))\n"
     ]
    },
    {
     "name": "stdout",
     "output_type": "stream",
     "text": [
      "CPU times: total: 2min 5s\n",
      "Wall time: 4min 26s\n"
     ]
    }
   ],
   "source": [
    "%%time\n",
    "cv_metrics['RandomForestClassifier'] = cross_validated_metrics(clf, X, y)\n",
    "cv_metrics['KNeighborsClassifier'] = cross_validated_metrics(knn, X, y)\n",
    "cv_metrics['SGDClassifier'] = cross_validated_metrics(sgd, X, y)\n",
    "cv_metrics['LogisticRegression'] = cross_validated_metrics(lr, X, y)"
   ]
  },
  {
   "cell_type": "code",
   "execution_count": 38,
   "id": "bb16e6c3",
   "metadata": {},
   "outputs": [
    {
     "data": {
      "text/plain": [
       "{'RandomForestClassifier': [0.49776,\n",
       "  0.49692503369461055,\n",
       "  0.4722675543360147,\n",
       "  0.48370202139830837],\n",
       " 'KNeighborsClassifier': [0.50096,\n",
       "  0.4987526003237927,\n",
       "  0.49563068561439294,\n",
       "  0.49718412514086363],\n",
       " 'SGDClassifier': [0.49808,\n",
       "  0.42631496894409937,\n",
       "  0.5999598232221776,\n",
       "  0.4034006838446539],\n",
       " 'LogisticRegression': [0.50044,\n",
       "  0.49768152716304054,\n",
       "  0.31627851042830546,\n",
       "  0.3854323886587595]}"
      ]
     },
     "execution_count": 38,
     "metadata": {},
     "output_type": "execute_result"
    }
   ],
   "source": [
    "cv_metrics"
   ]
  },
  {
   "cell_type": "code",
   "execution_count": 39,
   "id": "0d2a131f",
   "metadata": {
    "scrolled": true
   },
   "outputs": [
    {
     "data": {
      "text/html": [
       "<div>\n",
       "<style scoped>\n",
       "    .dataframe tbody tr th:only-of-type {\n",
       "        vertical-align: middle;\n",
       "    }\n",
       "\n",
       "    .dataframe tbody tr th {\n",
       "        vertical-align: top;\n",
       "    }\n",
       "\n",
       "    .dataframe thead th {\n",
       "        text-align: right;\n",
       "    }\n",
       "</style>\n",
       "<table border=\"1\" class=\"dataframe\">\n",
       "  <thead>\n",
       "    <tr style=\"text-align: right;\">\n",
       "      <th></th>\n",
       "      <th>RandomForestClassifier</th>\n",
       "      <th>KNeighborsClassifier</th>\n",
       "      <th>SGDClassifier</th>\n",
       "      <th>LogisticRegression</th>\n",
       "    </tr>\n",
       "  </thead>\n",
       "  <tbody>\n",
       "    <tr>\n",
       "      <th>Accuracy</th>\n",
       "      <td>0.497760</td>\n",
       "      <td>0.500960</td>\n",
       "      <td>0.498080</td>\n",
       "      <td>0.500440</td>\n",
       "    </tr>\n",
       "    <tr>\n",
       "      <th>Precision</th>\n",
       "      <td>0.496925</td>\n",
       "      <td>0.498753</td>\n",
       "      <td>0.426315</td>\n",
       "      <td>0.497682</td>\n",
       "    </tr>\n",
       "    <tr>\n",
       "      <th>Recall</th>\n",
       "      <td>0.472268</td>\n",
       "      <td>0.495631</td>\n",
       "      <td>0.599960</td>\n",
       "      <td>0.316279</td>\n",
       "    </tr>\n",
       "    <tr>\n",
       "      <th>F1</th>\n",
       "      <td>0.483702</td>\n",
       "      <td>0.497184</td>\n",
       "      <td>0.403401</td>\n",
       "      <td>0.385432</td>\n",
       "    </tr>\n",
       "  </tbody>\n",
       "</table>\n",
       "</div>"
      ],
      "text/plain": [
       "           RandomForestClassifier  KNeighborsClassifier  SGDClassifier  \\\n",
       "Accuracy                 0.497760              0.500960       0.498080   \n",
       "Precision                0.496925              0.498753       0.426315   \n",
       "Recall                   0.472268              0.495631       0.599960   \n",
       "F1                       0.483702              0.497184       0.403401   \n",
       "\n",
       "           LogisticRegression  \n",
       "Accuracy             0.500440  \n",
       "Precision            0.497682  \n",
       "Recall               0.316279  \n",
       "F1                   0.385432  "
      ]
     },
     "execution_count": 39,
     "metadata": {},
     "output_type": "execute_result"
    }
   ],
   "source": [
    "cvm_df = pd.DataFrame(cv_metrics, index=[\"Accuracy\",\"Precision\",\"Recall\",\"F1\"])\n",
    "cvm_df"
   ]
  },
  {
   "cell_type": "code",
   "execution_count": 40,
   "id": "68df6563",
   "metadata": {},
   "outputs": [],
   "source": [
    "cvm_col = list(cvm_df.columns)"
   ]
  },
  {
   "cell_type": "code",
   "execution_count": 41,
   "id": "ef3e896b",
   "metadata": {},
   "outputs": [
    {
     "data": {
      "image/png": "[encoded data removed]",
      "text/plain": [
       "<Figure size 640x480 with 1 Axes>"
      ]
     },
     "metadata": {},
     "output_type": "display_data"
    }
   ],
   "source": [
    "cvm_df.plot.bar(title=\"Cross Validated Metrics for the Models\", legend=True);"
   ]
  },
  {
   "cell_type": "markdown",
   "id": "5b0a4f8f",
   "metadata": {},
   "source": [
    "* In a customer churn context, **high precision** means that when the model predicts a customer will churn, it is likely to be correct. You want to avoid falsely flagging customers as churning when they are not because this can result in unnecessary retention efforts or negative customer experiences.\n",
    "\n",
    "* In a customer churn context, **high recall** means that the model is effective at capturing most of the customers who are truly churning. This can be important if retaining customers is a high priority and you want to avoid missing potential churn cases."
   ]
  },
  {
   "cell_type": "markdown",
   "id": "fd0fcaef",
   "metadata": {},
   "source": [
    "* Based on the provided metrics, the SGDClassifier appears to have the highest recall , which means it's better at identifying true churn cases. However, it has relatively low precision, meaning it may generate more false positives.\n",
    "\n",
    "* The RandomForestClassifier also has a decent balance between precision and recall\n",
    "* The KNeighborsClassifier has the highest precision but a lower recall, which means it's better at avoiding false positives but might miss some true churn cases.\n",
    "\n",
    "* The LogisticRegression model has the lowest performance in terms of both precision and recall."
   ]
  },
  {
   "cell_type": "markdown",
   "id": "8e20c1ae",
   "metadata": {},
   "source": [
    "* Eliminating LogisticRegression because of low precision and reacll\n",
    "* Eliminating Sgdclassifier because of low precision\n",
    "* Choosing **RandomForestClassifier** and **KNeigborsClassifier** for further tuning because they have a balance of precision and recall"
   ]
  },
  {
   "cell_type": "markdown",
   "id": "3bf6a491",
   "metadata": {},
   "source": [
    "### Hyperparameter Tuning on KNN"
   ]
  },
  {
   "cell_type": "code",
   "execution_count": 42,
   "id": "336a4c9f",
   "metadata": {
    "scrolled": true
   },
   "outputs": [
    {
     "name": "stdout",
     "output_type": "stream",
     "text": [
      "CPU times: total: 1min 25s\n",
      "Wall time: 1min 54s\n"
     ]
    }
   ],
   "source": [
    "%%time\n",
    "# Tuning KNN\n",
    "from sklearn.metrics import precision_score, recall_score\n",
    "\n",
    "recalls = []\n",
    "precisions = []\n",
    "\n",
    "# Creating a list of different values for K-Neighbors\n",
    "neighbors = range(5,100,2)\n",
    "\n",
    "# Setup KNN instance\n",
    "knn = KNeighborsClassifier()\n",
    "\n",
    "max_r=0\n",
    "max_p=0\n",
    "\n",
    "max_recall=0\n",
    "max_precision=0\n",
    "\n",
    "# Loop through different n_neighbors\n",
    "for i in neighbors:\n",
    "    knn.set_params(n_neighbors=i)\n",
    "    \n",
    "    knn.fit(X_train, y_train)\n",
    "    knn.score(X_test, y_test)\n",
    "    \n",
    "    y_preds = knn.predict(X_test)\n",
    "    \n",
    "    recall = recall_score(y_test, y_preds)\n",
    "    precision = precision_score(y_test, y_preds)\n",
    "\n",
    "    recalls.append(recall)\n",
    "    precisions.append(precision)\n",
    "    \n",
    "    if recall > max_recall:\n",
    "        max_recall = recall\n",
    "        max_r = i\n",
    "    \n",
    "    if precision > max_precision:\n",
    "        max_precision = precision\n",
    "        max_p = i"
   ]
  },
  {
   "cell_type": "code",
   "execution_count": 43,
   "id": "05e998b7",
   "metadata": {},
   "outputs": [
    {
     "name": "stdout",
     "output_type": "stream",
     "text": [
      "Maximum Recall score on the test data is for n_neighbors = 23\n",
      "Maximum Precision score on the test data is for n_neighbors = 85\n"
     ]
    },
    {
     "data": {
      "image/png": "[encoded data removed]",
      "text/plain": [
       "<Figure size 640x480 with 1 Axes>"
      ]
     },
     "metadata": {},
     "output_type": "display_data"
    }
   ],
   "source": [
    "plt.plot(neighbors, recalls, label=\"Recall Score\")\n",
    "plt.plot(neighbors, precisions, label=\"Precision Score\")\n",
    "plt.xticks(np.arange(1,100,10))\n",
    "plt.xlabel(\"Number of Neighbors\")\n",
    "plt.ylabel(\"Model Score\")\n",
    "plt.legend()\n",
    "\n",
    "print(f\"Maximum Recall score on the test data is for n_neighbors = {max_r}\")\n",
    "print(f\"Maximum Precision score on the test data is for n_neighbors = {max_p}\")\n",
    "\n",
    "plt.show()"
   ]
  },
  {
   "cell_type": "code",
   "execution_count": 44,
   "id": "f0c9ef93",
   "metadata": {},
   "outputs": [
    {
     "data": {
      "text/plain": [
       "0.5073"
      ]
     },
     "execution_count": 44,
     "metadata": {},
     "output_type": "execute_result"
    }
   ],
   "source": [
    "from sklearn.neighbors import KNeighborsClassifier\n",
    "\n",
    "knn = KNeighborsClassifier(n_neighbors=max_r)\n",
    "knn.fit(X_train, y_train)\n",
    "knn.score(X_test, y_test)"
   ]
  },
  {
   "cell_type": "code",
   "execution_count": 45,
   "id": "aa2ed82f",
   "metadata": {},
   "outputs": [],
   "source": [
    "from sklearn.metrics import f1_score, accuracy_score\n",
    "\n",
    "knn_y_preds = knn.predict(X_test)\n",
    "\n",
    "knn_recall = recall_score(y_test, knn_y_preds)\n",
    "knn_precision = precision_score(y_test, knn_y_preds)\n",
    "knn_accuracy = accuracy_score(y_test, knn_y_preds)\n",
    "knn_f1 = f1_score(y_test, knn_y_preds)"
   ]
  },
  {
   "cell_type": "code",
   "execution_count": 46,
   "id": "93f49bbc",
   "metadata": {},
   "outputs": [
    {
     "data": {
      "text/plain": [
       "(0.49667807529695995, 0.5040866366979976, 0.5073, 0.5003549335767163)"
      ]
     },
     "execution_count": 46,
     "metadata": {},
     "output_type": "execute_result"
    }
   ],
   "source": [
    "knn_recall, knn_precision, knn_accuracy, knn_f1"
   ]
  },
  {
   "cell_type": "markdown",
   "id": "8282f7f9",
   "metadata": {},
   "source": [
    "### Hyperparameter Tuning on RandomForestClassifier"
   ]
  },
  {
   "cell_type": "code",
   "execution_count": 47,
   "id": "0622eb39",
   "metadata": {},
   "outputs": [
    {
     "name": "stdout",
     "output_type": "stream",
     "text": [
      "Fitting 5 folds for each of 2 candidates, totalling 10 fits\n",
      "CPU times: total: 50.5 s\n",
      "Wall time: 1min 16s\n"
     ]
    },
    {
     "data": {
      "text/html": [
       "<style>#sk-container-id-1 {color: black;}#sk-container-id-1 pre{padding: 0;}#sk-container-id-1 div.sk-toggleable {background-color: white;}#sk-container-id-1 label.sk-toggleable__label {cursor: pointer;display: block;width: 100%;margin-bottom: 0;padding: 0.3em;box-sizing: border-box;text-align: center;}#sk-container-id-1 label.sk-toggleable__label-arrow:before {content: \"▸\";float: left;margin-right: 0.25em;color: #696969;}#sk-container-id-1 label.sk-toggleable__label-arrow:hover:before {color: black;}#sk-container-id-1 div.sk-estimator:hover label.sk-toggleable__label-arrow:before {color: black;}#sk-container-id-1 div.sk-toggleable__content {max-height: 0;max-width: 0;overflow: hidden;text-align: left;background-color: #f0f8ff;}#sk-container-id-1 div.sk-toggleable__content pre {margin: 0.2em;color: black;border-radius: 0.25em;background-color: #f0f8ff;}#sk-container-id-1 input.sk-toggleable__control:checked~div.sk-toggleable__content {max-height: 200px;max-width: 100%;overflow: auto;}#sk-container-id-1 input.sk-toggleable__control:checked~label.sk-toggleable__label-arrow:before {content: \"▾\";}#sk-container-id-1 div.sk-estimator input.sk-toggleable__control:checked~label.sk-toggleable__label {background-color: #d4ebff;}#sk-container-id-1 div.sk-label input.sk-toggleable__control:checked~label.sk-toggleable__label {background-color: #d4ebff;}#sk-container-id-1 input.sk-hidden--visually {border: 0;clip: rect(1px 1px 1px 1px);clip: rect(1px, 1px, 1px, 1px);height: 1px;margin: -1px;overflow: hidden;padding: 0;position: absolute;width: 1px;}#sk-container-id-1 div.sk-estimator {font-family: monospace;background-color: #f0f8ff;border: 1px dotted black;border-radius: 0.25em;box-sizing: border-box;margin-bottom: 0.5em;}#sk-container-id-1 div.sk-estimator:hover {background-color: #d4ebff;}#sk-container-id-1 div.sk-parallel-item::after {content: \"\";width: 100%;border-bottom: 1px solid gray;flex-grow: 1;}#sk-container-id-1 div.sk-label:hover label.sk-toggleable__label {background-color: #d4ebff;}#sk-container-id-1 div.sk-serial::before {content: \"\";position: absolute;border-left: 1px solid gray;box-sizing: border-box;top: 0;bottom: 0;left: 50%;z-index: 0;}#sk-container-id-1 div.sk-serial {display: flex;flex-direction: column;align-items: center;background-color: white;padding-right: 0.2em;padding-left: 0.2em;position: relative;}#sk-container-id-1 div.sk-item {position: relative;z-index: 1;}#sk-container-id-1 div.sk-parallel {display: flex;align-items: stretch;justify-content: center;background-color: white;position: relative;}#sk-container-id-1 div.sk-item::before, #sk-container-id-1 div.sk-parallel-item::before {content: \"\";position: absolute;border-left: 1px solid gray;box-sizing: border-box;top: 0;bottom: 0;left: 50%;z-index: -1;}#sk-container-id-1 div.sk-parallel-item {display: flex;flex-direction: column;z-index: 1;position: relative;background-color: white;}#sk-container-id-1 div.sk-parallel-item:first-child::after {align-self: flex-end;width: 50%;}#sk-container-id-1 div.sk-parallel-item:last-child::after {align-self: flex-start;width: 50%;}#sk-container-id-1 div.sk-parallel-item:only-child::after {width: 0;}#sk-container-id-1 div.sk-dashed-wrapped {border: 1px dashed gray;margin: 0 0.4em 0.5em 0.4em;box-sizing: border-box;padding-bottom: 0.4em;background-color: white;}#sk-container-id-1 div.sk-label label {font-family: monospace;font-weight: bold;display: inline-block;line-height: 1.2em;}#sk-container-id-1 div.sk-label-container {text-align: center;}#sk-container-id-1 div.sk-container {/* jupyter's `normalize.less` sets `[hidden] { display: none; }` but bootstrap.min.css set `[hidden] { display: none !important; }` so we also need the `!important` here to be able to override the default hidden behavior on the sphinx rendered scikit-learn.org. See: https://github.com/scikit-learn/scikit-learn/issues/21755 */display: inline-block !important;position: relative;}#sk-container-id-1 div.sk-text-repr-fallback {display: none;}</style><div id=\"sk-container-id-1\" class=\"sk-top-container\"><div class=\"sk-text-repr-fallback\"><pre>RandomizedSearchCV(cv=5, estimator=RandomForestClassifier(), n_iter=2,\n",
       "                   param_distributions={&#x27;max_depth&#x27;: [None, 3, 5],\n",
       "                                        &#x27;min_samples_leaf&#x27;: array([ 1,  5,  9, 13, 17]),\n",
       "                                        &#x27;min_samples_split&#x27;: array([ 2,  6, 10, 14, 18]),\n",
       "                                        &#x27;n_estimators&#x27;: array([100, 300, 500, 700, 900]),\n",
       "                                        &#x27;n_jobs&#x27;: [-1]},\n",
       "                   verbose=True)</pre><b>In a Jupyter environment, please rerun this cell to show the HTML representation or trust the notebook. <br />On GitHub, the HTML representation is unable to render, please try loading this page with nbviewer.org.</b></div><div class=\"sk-container\" hidden><div class=\"sk-item sk-dashed-wrapped\"><div class=\"sk-label-container\"><div class=\"sk-label sk-toggleable\"><input class=\"sk-toggleable__control sk-hidden--visually\" id=\"sk-estimator-id-1\" type=\"checkbox\" ><label for=\"sk-estimator-id-1\" class=\"sk-toggleable__label sk-toggleable__label-arrow\">RandomizedSearchCV</label><div class=\"sk-toggleable__content\"><pre>RandomizedSearchCV(cv=5, estimator=RandomForestClassifier(), n_iter=2,\n",
       "                   param_distributions={&#x27;max_depth&#x27;: [None, 3, 5],\n",
       "                                        &#x27;min_samples_leaf&#x27;: array([ 1,  5,  9, 13, 17]),\n",
       "                                        &#x27;min_samples_split&#x27;: array([ 2,  6, 10, 14, 18]),\n",
       "                                        &#x27;n_estimators&#x27;: array([100, 300, 500, 700, 900]),\n",
       "                                        &#x27;n_jobs&#x27;: [-1]},\n",
       "                   verbose=True)</pre></div></div></div><div class=\"sk-parallel\"><div class=\"sk-parallel-item\"><div class=\"sk-item\"><div class=\"sk-label-container\"><div class=\"sk-label sk-toggleable\"><input class=\"sk-toggleable__control sk-hidden--visually\" id=\"sk-estimator-id-2\" type=\"checkbox\" ><label for=\"sk-estimator-id-2\" class=\"sk-toggleable__label sk-toggleable__label-arrow\">estimator: RandomForestClassifier</label><div class=\"sk-toggleable__content\"><pre>RandomForestClassifier()</pre></div></div></div><div class=\"sk-serial\"><div class=\"sk-item\"><div class=\"sk-estimator sk-toggleable\"><input class=\"sk-toggleable__control sk-hidden--visually\" id=\"sk-estimator-id-3\" type=\"checkbox\" ><label for=\"sk-estimator-id-3\" class=\"sk-toggleable__label sk-toggleable__label-arrow\">RandomForestClassifier</label><div class=\"sk-toggleable__content\"><pre>RandomForestClassifier()</pre></div></div></div></div></div></div></div></div></div></div>"
      ],
      "text/plain": [
       "RandomizedSearchCV(cv=5, estimator=RandomForestClassifier(), n_iter=2,\n",
       "                   param_distributions={'max_depth': [None, 3, 5],\n",
       "                                        'min_samples_leaf': array([ 1,  5,  9, 13, 17]),\n",
       "                                        'min_samples_split': array([ 2,  6, 10, 14, 18]),\n",
       "                                        'n_estimators': array([100, 300, 500, 700, 900]),\n",
       "                                        'n_jobs': [-1]},\n",
       "                   verbose=True)"
      ]
     },
     "execution_count": 47,
     "metadata": {},
     "output_type": "execute_result"
    }
   ],
   "source": [
    "%%time\n",
    "from sklearn.model_selection import RandomizedSearchCV\n",
    "# Create hyperparameter grid for RandomForestClassifer\n",
    "rf_grid = {\n",
    "    \"n_jobs\" : [-1],\n",
    "    \"n_estimators\" : np.arange(100,1000,200),\n",
    "    \"max_depth\" : [None, 3,5],\n",
    "    \"min_samples_split\" : np.arange(2,20,4),\n",
    "    \"min_samples_leaf\" : np.arange(1,20,4)\n",
    "}\n",
    "\n",
    "\n",
    "# Setup grid hyperparameter search for RandomForestClassifier\n",
    "rfc_t = RandomizedSearchCV(RandomForestClassifier(), param_distributions=rf_grid, cv=5, n_iter=2, verbose=True)\n",
    "\n",
    "# Fit the hyperparameter search model\n",
    "rfc_t.fit(X_train, y_train)"
   ]
  },
  {
   "cell_type": "code",
   "execution_count": 48,
   "id": "fcdd045c",
   "metadata": {},
   "outputs": [
    {
     "data": {
      "text/plain": [
       "{'n_jobs': -1,\n",
       " 'n_estimators': 700,\n",
       " 'min_samples_split': 14,\n",
       " 'min_samples_leaf': 13,\n",
       " 'max_depth': 3}"
      ]
     },
     "execution_count": 48,
     "metadata": {},
     "output_type": "execute_result"
    }
   ],
   "source": [
    "rfc_t.best_params_"
   ]
  },
  {
   "cell_type": "code",
   "execution_count": 49,
   "id": "470b7ccb",
   "metadata": {},
   "outputs": [
    {
     "data": {
      "text/plain": [
       "0.4995"
      ]
     },
     "execution_count": 49,
     "metadata": {},
     "output_type": "execute_result"
    }
   ],
   "source": [
    "rfc_t.score(X_test, y_test)"
   ]
  },
  {
   "cell_type": "code",
   "execution_count": 50,
   "id": "4c8e9bcf",
   "metadata": {},
   "outputs": [],
   "source": [
    "rfc = RandomForestClassifier(n_jobs=-1, n_estimators=900, min_samples_split=18, min_samples_leaf=1, max_depth=5)\n",
    "rfc.fit(X_train, y_train)\n",
    "rfc_y_preds = rfc.predict(X_test)"
   ]
  },
  {
   "cell_type": "code",
   "execution_count": 51,
   "id": "7c8641c8",
   "metadata": {},
   "outputs": [],
   "source": [
    "from sklearn.metrics import precision_score, recall_score, accuracy_score, f1_score\n",
    "\n",
    "rfc_recall = recall_score(y_test, rfc_y_preds)\n",
    "rfc_precision = precision_score(y_test, rfc_y_preds)\n",
    "rfc_accuracy = accuracy_score(y_test, rfc_y_preds)\n",
    "rfc_f1= f1_score(y_test, rfc_y_preds)"
   ]
  },
  {
   "cell_type": "code",
   "execution_count": 52,
   "id": "c6373638",
   "metadata": {},
   "outputs": [
    {
     "data": {
      "text/plain": [
       "(0.33480974431246224, 0.5000751766651631, 0.50335, 0.4010853180584866)"
      ]
     },
     "execution_count": 52,
     "metadata": {},
     "output_type": "execute_result"
    }
   ],
   "source": [
    "rfc_recall, rfc_precision, rfc_accuracy, rfc_f1"
   ]
  },
  {
   "cell_type": "markdown",
   "id": "d4230707",
   "metadata": {},
   "source": [
    "**Storing the metrics for the Tuned Classifiers**"
   ]
  },
  {
   "cell_type": "code",
   "execution_count": 53,
   "id": "78b8dcdf",
   "metadata": {},
   "outputs": [],
   "source": [
    "new_metrics = {}\n",
    "new_metrics['KNeighborsClassifier'] = [knn_accuracy, knn_precision, knn_recall, knn_f1]\n",
    "new_metrics['RandomForestClassifier'] = [rfc_accuracy, rfc_precision, rfc_recall, rfc_f1]"
   ]
  },
  {
   "cell_type": "code",
   "execution_count": 54,
   "id": "4a4dca60",
   "metadata": {},
   "outputs": [
    {
     "data": {
      "text/html": [
       "<div>\n",
       "<style scoped>\n",
       "    .dataframe tbody tr th:only-of-type {\n",
       "        vertical-align: middle;\n",
       "    }\n",
       "\n",
       "    .dataframe tbody tr th {\n",
       "        vertical-align: top;\n",
       "    }\n",
       "\n",
       "    .dataframe thead th {\n",
       "        text-align: right;\n",
       "    }\n",
       "</style>\n",
       "<table border=\"1\" class=\"dataframe\">\n",
       "  <thead>\n",
       "    <tr style=\"text-align: right;\">\n",
       "      <th></th>\n",
       "      <th>KNeighborsClassifier</th>\n",
       "      <th>RandomForestClassifier</th>\n",
       "    </tr>\n",
       "  </thead>\n",
       "  <tbody>\n",
       "    <tr>\n",
       "      <th>Accuracy</th>\n",
       "      <td>0.507300</td>\n",
       "      <td>0.503350</td>\n",
       "    </tr>\n",
       "    <tr>\n",
       "      <th>Precision</th>\n",
       "      <td>0.504087</td>\n",
       "      <td>0.500075</td>\n",
       "    </tr>\n",
       "    <tr>\n",
       "      <th>Recall</th>\n",
       "      <td>0.496678</td>\n",
       "      <td>0.334810</td>\n",
       "    </tr>\n",
       "    <tr>\n",
       "      <th>F1</th>\n",
       "      <td>0.500355</td>\n",
       "      <td>0.401085</td>\n",
       "    </tr>\n",
       "  </tbody>\n",
       "</table>\n",
       "</div>"
      ],
      "text/plain": [
       "           KNeighborsClassifier  RandomForestClassifier\n",
       "Accuracy               0.507300                0.503350\n",
       "Precision              0.504087                0.500075\n",
       "Recall                 0.496678                0.334810\n",
       "F1                     0.500355                0.401085"
      ]
     },
     "execution_count": 54,
     "metadata": {},
     "output_type": "execute_result"
    }
   ],
   "source": [
    "new_metrics_df = pd.DataFrame(new_metrics, index=[\"Accuracy\",\"Precision\",\"Recall\",\"F1\"])\n",
    "new_metrics_df"
   ]
  },
  {
   "cell_type": "code",
   "execution_count": 55,
   "id": "3e02c4d4",
   "metadata": {},
   "outputs": [
    {
     "data": {
      "image/png": "[encoded data removed]",
      "text/plain": [
       "<Figure size 640x480 with 1 Axes>"
      ]
     },
     "metadata": {},
     "output_type": "display_data"
    }
   ],
   "source": [
    "new_metrics_df.plot.bar(title=\"Metrics for Tuned Models\", legend=True);\n",
    "plt.xticks(rotation=0);"
   ]
  },
  {
   "cell_type": "markdown",
   "id": "523675f8",
   "metadata": {},
   "source": [
    "## Evaluating tuned KNeighborClassifier estimator\n",
    "\n",
    "* ROC Curve\n",
    "* Confusion Matrix\n",
    "* Classification Report"
   ]
  },
  {
   "cell_type": "markdown",
   "id": "91cb2c99",
   "metadata": {},
   "source": [
    "**ROC Curve**"
   ]
  },
  {
   "cell_type": "code",
   "execution_count": 56,
   "id": "5f734d01",
   "metadata": {},
   "outputs": [
    {
     "data": {
      "text/plain": [
       "<sklearn.metrics._plot.roc_curve.RocCurveDisplay at 0x2480291efd0>"
      ]
     },
     "execution_count": 56,
     "metadata": {},
     "output_type": "execute_result"
    },
    {
     "data": {
      "image/png": "[encoded data removed]",
      "text/plain": [
       "<Figure size 640x480 with 1 Axes>"
      ]
     },
     "metadata": {},
     "output_type": "display_data"
    }
   ],
   "source": [
    "from sklearn.metrics import RocCurveDisplay\n",
    "\n",
    "# Plottin ROC curve and calculating the AUC metric\n",
    "RocCurveDisplay.from_predictions(y_test, knn_y_preds)"
   ]
  },
  {
   "cell_type": "markdown",
   "id": "137ef6e4",
   "metadata": {},
   "source": [
    "**Confusion Matrix**"
   ]
  },
  {
   "cell_type": "code",
   "execution_count": 57,
   "id": "167490e5",
   "metadata": {},
   "outputs": [
    {
     "name": "stdout",
     "output_type": "stream",
     "text": [
      "[[5212 4854]\n",
      " [5000 4934]]\n"
     ]
    }
   ],
   "source": [
    "from sklearn.metrics import confusion_matrix\n",
    "\n",
    "print(confusion_matrix(y_test, knn_y_preds))"
   ]
  },
  {
   "cell_type": "code",
   "execution_count": 58,
   "id": "d2f10a1d",
   "metadata": {},
   "outputs": [
    {
     "data": {
      "image/png": "[encoded data removed]",
      "text/plain": [
       "<Figure size 400x400 with 1 Axes>"
      ]
     },
     "metadata": {},
     "output_type": "display_data"
    }
   ],
   "source": [
    "import seaborn as sns\n",
    "\n",
    "fig, ax = plt.subplots(figsize=(4,4))\n",
    "ax = sns.heatmap(confusion_matrix(y_test, knn_y_preds),annot=True, cbar=False)\n",
    "plt.xlabel('True Label')\n",
    "plt.ylabel('Predicted Label');"
   ]
  },
  {
   "cell_type": "markdown",
   "id": "6b5bfd99",
   "metadata": {},
   "source": [
    "**Classification Report**"
   ]
  },
  {
   "cell_type": "code",
   "execution_count": 59,
   "id": "9302d6dd",
   "metadata": {},
   "outputs": [
    {
     "name": "stdout",
     "output_type": "stream",
     "text": [
      "              precision    recall  f1-score   support\n",
      "\n",
      "           0       0.51      0.52      0.51     10066\n",
      "           1       0.50      0.50      0.50      9934\n",
      "\n",
      "    accuracy                           0.51     20000\n",
      "   macro avg       0.51      0.51      0.51     20000\n",
      "weighted avg       0.51      0.51      0.51     20000\n",
      "\n"
     ]
    }
   ],
   "source": [
    "from sklearn.metrics import classification_report\n",
    "\n",
    "print(classification_report(y_test, knn_y_preds))"
   ]
  },
  {
   "cell_type": "markdown",
   "id": "882790fd",
   "metadata": {},
   "source": [
    "# Exporting the model"
   ]
  },
  {
   "cell_type": "code",
   "execution_count": 60,
   "id": "f9ad2783",
   "metadata": {},
   "outputs": [
    {
     "name": "stdout",
     "output_type": "stream",
     "text": [
      "KNeighborsClassifier(n_neighbors=23)\n"
     ]
    }
   ],
   "source": [
    "print(knn)"
   ]
  },
  {
   "cell_type": "code",
   "execution_count": 61,
   "id": "6babe137",
   "metadata": {},
   "outputs": [],
   "source": [
    "import pickle\n",
    "pickle.dump(knn, open('model.pkl', 'wb'))"
   ]
  },
  {
   "cell_type": "code",
   "execution_count": 62,
   "id": "effde7a2",
   "metadata": {},
   "outputs": [
    {
     "data": {
      "text/plain": [
       "['knn_model.pkl']"
      ]
     },
     "execution_count": 62,
     "metadata": {},
     "output_type": "execute_result"
    }
   ],
   "source": [
    "import joblib\n",
    "joblib.dump(knn, 'knn_model.pkl')"
   ]
  },
  {
   "cell_type": "code",
   "execution_count": 65,
   "id": "44839cf7",
   "metadata": {},
   "outputs": [
    {
     "data": {
      "text/plain": [
       "1    50216\n",
       "2    49784\n",
       "Name: Gender, dtype: int64"
      ]
     },
     "execution_count": 65,
     "metadata": {},
     "output_type": "execute_result"
    }
   ],
   "source": [
    "df.Gender.value_counts()"
   ]
  },
  {
   "cell_type": "code",
   "execution_count": 67,
   "id": "87b4ab96",
   "metadata": {},
   "outputs": [
    {
     "data": {
      "text/plain": [
       "2    20157\n",
       "3    20041\n",
       "4    20031\n",
       "1    19958\n",
       "5    19813\n",
       "Name: Location, dtype: int64"
      ]
     },
     "execution_count": 67,
     "metadata": {},
     "output_type": "execute_result"
    }
   ],
   "source": [
    "df.Location.value_counts()"
   ]
  }
 ],
 "metadata": {
  "kernelspec": {
   "display_name": "Python 3 (ipykernel)",
   "language": "python",
   "name": "python3"
  },
  "language_info": {
   "codemirror_mode": {
    "name": "ipython",
    "version": 3
   },
   "file_extension": ".py",
   "mimetype": "text/x-python",
   "name": "python",
   "nbconvert_exporter": "python",
   "pygments_lexer": "ipython3",
   "version": "3.11.3"
  }
 },
 "nbformat": 4,
 "nbformat_minor": 5
}
